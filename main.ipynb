{
 "cells": [
  {
   "cell_type": "code",
   "execution_count": 1,
   "id": "af5afce2",
   "metadata": {},
   "outputs": [
    {
     "name": "stdout",
     "output_type": "stream",
     "text": [
      "Defaulting to user installation because normal site-packages is not writeable\n",
      "Requirement already satisfied: elasticsearch in c:\\users\\victo\\appdata\\roaming\\python\\python313\\site-packages (9.0.1)\n",
      "Requirement already satisfied: elastic-transport<9,>=8.15.1 in c:\\users\\victo\\appdata\\roaming\\python\\python313\\site-packages (from elasticsearch) (8.17.1)\n",
      "Requirement already satisfied: python-dateutil in c:\\users\\victo\\appdata\\roaming\\python\\python313\\site-packages (from elasticsearch) (2.9.0.post0)\n",
      "Requirement already satisfied: typing-extensions in c:\\users\\victo\\appdata\\roaming\\python\\python313\\site-packages (from elasticsearch) (4.13.2)\n",
      "Requirement already satisfied: urllib3<3,>=1.26.2 in c:\\users\\victo\\appdata\\roaming\\python\\python313\\site-packages (from elastic-transport<9,>=8.15.1->elasticsearch) (2.3.0)\n",
      "Requirement already satisfied: certifi in c:\\users\\victo\\appdata\\roaming\\python\\python313\\site-packages (from elastic-transport<9,>=8.15.1->elasticsearch) (2024.12.14)\n",
      "Requirement already satisfied: six>=1.5 in c:\\users\\victo\\appdata\\roaming\\python\\python313\\site-packages (from python-dateutil->elasticsearch) (1.17.0)\n"
     ]
    },
    {
     "name": "stderr",
     "output_type": "stream",
     "text": [
      "\n",
      "[notice] A new release of pip is available: 25.0 -> 25.1.1\n",
      "[notice] To update, run: python.exe -m pip install --upgrade pip\n"
     ]
    }
   ],
   "source": [
    "!pip install elasticsearch"
   ]
  },
  {
   "cell_type": "code",
   "execution_count": 2,
   "id": "c63808a0",
   "metadata": {},
   "outputs": [],
   "source": [
    "import json\n",
    "from elasticsearch.helpers import bulk\n",
    "import pandas as pd\n",
    "\n",
    "# Corpus Path \n",
    "corpus_path = r'..\\trec-covid\\corpus.jsonl'\n",
    "\n",
    "# reading\n",
    "data = []\n",
    "with open(corpus_path, 'r', encoding='utf-8') as f:\n",
    "    for line in f:\n",
    "        data.append(json.loads(line))\n",
    "\n",
    "# Dataframe creation\n",
    "# This is out corpus\n",
    "df = pd.DataFrame(data)"
   ]
  },
  {
   "cell_type": "code",
   "execution_count": 3,
   "id": "c37401fd",
   "metadata": {},
   "outputs": [
    {
     "name": "stdout",
     "output_type": "stream",
     "text": [
      "{\n",
      "  \"name\" : \"DESKTOP-7VCER44\",\n",
      "  \"cluster_name\" : \"elasticsearch\",\n",
      "  \"cluster_uuid\" : \"4KOjzn0zQLCGNiwWwmPhMg\",\n",
      "  \"version\" : {\n",
      "    \"number\" : \"9.0.1\",\n",
      "    \"build_flavor\" : \"default\",\n",
      "    \"build_type\" : \"zip\",\n",
      "    \"build_hash\" : \"73f7594ea00db50aa7e941e151a5b3985f01e364\",\n",
      "    \"build_date\" : \"2025-04-30T10:07:41.393025990Z\",\n",
      "    \"build_snapshot\" : false,\n",
      "    \"lucene_version\" : \"10.1.0\",\n",
      "    \"minimum_wire_compatibility_version\" : \"8.18.0\",\n",
      "    \"minimum_index_compatibility_version\" : \"8.0.0\"\n",
      "  },\n",
      "  \"tagline\" : \"You Know, for Search\"\n",
      "}\n"
     ]
    },
    {
     "name": "stderr",
     "output_type": "stream",
     "text": [
      "  % Total    % Received % Xferd  Average Speed   Time    Time     Time  Current\n",
      "                                 Dload  Upload   Total   Spent    Left  Speed\n",
      "\n",
      "  0     0    0     0    0     0      0      0 --:--:-- --:--:-- --:--:--     0\n",
      "100   539  100   539    0     0   4241      0 --:--:-- --:--:-- --:--:--  4244\n",
      "100   539  100   539    0     0   4230      0 --:--:-- --:--:-- --:--:--  4210\n"
     ]
    }
   ],
   "source": [
    "!curl http://localhost:9200/"
   ]
  },
  {
   "cell_type": "code",
   "execution_count": 4,
   "id": "3f915175",
   "metadata": {},
   "outputs": [],
   "source": [
    "import re\n",
    "\n",
    "# The code cleans and standardizes text by converting it to lowercase, \n",
    "# removing HTML tags, digits, and punctuation, and collapsing multiple spaces into one.\n",
    "def clear_text(text):\n",
    "    if pd.isna(text):\n",
    "        return \"\"\n",
    "    text = text.lower()\n",
    "    text = re.sub(r\"<[^>]+>\", \" \", text)\n",
    "    text = re.sub(r\"\\d+\", \" \", text)\n",
    "    text = re.sub(r\"[^\\w\\s]\", \" \", text)\n",
    "    text = re.sub(r\"\\s+\", \" \", text).strip()\n",
    "\n",
    "    return text\n",
    "\n",
    "df[\"clean_text\"] = (df[\"title\"].fillna(\"\") + \" \" + df[\"text\"].fillna(\"\")).apply(clear_text)\n",
    "# Remove rows where clean_text is empty\n",
    "df = df[df[\"clean_text\"] != \"\"]"
   ]
  },
  {
   "cell_type": "code",
   "execution_count": 5,
   "id": "7959e279",
   "metadata": {},
   "outputs": [
    {
     "name": "stdout",
     "output_type": "stream",
     "text": [
      "        _id                                              title  \\\n",
      "0  ug7v899j  Clinical features of culture-proven Mycoplasma...   \n",
      "1  02tnwd4m  Nitric oxide: a pro-inflammatory mediator in l...   \n",
      "2  ejv2xln0    Surfactant protein-D and pulmonary host defense   \n",
      "3  2b73a28n               Role of endothelin-1 in lung disease   \n",
      "4  9785vg6d  Gene expression in epithelial cells in respons...   \n",
      "\n",
      "                                          clean_text  \\\n",
      "0  clinical features of culture proven mycoplasma...   \n",
      "1  nitric oxide a pro inflammatory mediator in lu...   \n",
      "2  surfactant protein d and pulmonary host defens...   \n",
      "3  role of endothelin in lung disease endothelin ...   \n",
      "4  gene expression in epithelial cells in respons...   \n",
      "\n",
      "                                                text  \n",
      "0  OBJECTIVE: This retrospective chart review des...  \n",
      "1  Inflammatory diseases of the respiratory tract...  \n",
      "2  Surfactant protein-D (SP-D) participates in th...  \n",
      "3  Endothelin-1 (ET-1) is a 21 amino acid peptide...  \n",
      "4  Respiratory syncytial virus (RSV) and pneumoni...  \n"
     ]
    }
   ],
   "source": [
    "print(df[[\"_id\", \"title\",\"clean_text\",\"text\"]].head())"
   ]
  },
  {
   "cell_type": "code",
   "execution_count": 6,
   "id": "36d8e478",
   "metadata": {},
   "outputs": [
    {
     "name": "stdout",
     "output_type": "stream",
     "text": [
      "Index(['_id', 'title', 'text', 'metadata', 'clean_text'], dtype='object')\n"
     ]
    }
   ],
   "source": [
    "print(df.columns)"
   ]
  },
  {
   "cell_type": "code",
   "execution_count": 7,
   "id": "56449468",
   "metadata": {},
   "outputs": [],
   "source": [
    "from elasticsearch import Elasticsearch, helpers\n",
    "\n",
    "client = Elasticsearch(\"http://localhost:9200\")\n",
    "\n",
    "index_name = \"my_index\"\n",
    "\n",
    "vsm_settings={\n",
    "    \"settings\": {\n",
    "        \"number_of_shards\": 1,\n",
    "        \"similarity\": {\n",
    "            \"scripted_tfidf\": {\n",
    "                \"type\": \"scripted\",\n",
    "                \"script\": {\n",
    "                    \"source\": \"double tf = Math.sqrt(doc.freq); double idf = Math.log((field.docCount+1.0)/(term.docFreq+1.0)) + 1.0; double norm = 1/Math.sqrt(doc.length); return query.boost * tf * idf * norm;\"\n",
    "                }\n",
    "            }\n",
    "        },        \n",
    "        \"analysis\": {\n",
    "            \"analyzer\": {\n",
    "                \"default\": {\n",
    "                    \"type\": \"english\"\n",
    "                },\n",
    "                \"default_search\": {\n",
    "                    \"type\": \"english\"\n",
    "                }\n",
    "            }\n",
    "        }\n",
    "    },\n",
    "    \"mappings\": {\n",
    "        \"properties\": {\n",
    "            \"text\": {\n",
    "                \"type\": \"text\",\n",
    "                \"similarity\": \"scripted_tfidf\"\n",
    "        }\n",
    "    }\n",
    "}\n",
    "}\n",
    "\n"
   ]
  },
  {
   "cell_type": "code",
   "execution_count": 8,
   "id": "c7b2b066",
   "metadata": {},
   "outputs": [
    {
     "data": {
      "text/plain": [
       "ObjectApiResponse({'acknowledged': True})"
      ]
     },
     "execution_count": 8,
     "metadata": {},
     "output_type": "execute_result"
    }
   ],
   "source": [
    "client.indices.delete(index=\"my_index\")"
   ]
  },
  {
   "cell_type": "code",
   "execution_count": 9,
   "id": "2214c02f",
   "metadata": {},
   "outputs": [
    {
     "name": "stdout",
     "output_type": "stream",
     "text": [
      "Index created: {'acknowledged': True, 'shards_acknowledged': True, 'index': 'my_index'}\n",
      "Success: (171331, [])\n"
     ]
    }
   ],
   "source": [
    "# Create the index with mappings and settings\n",
    "if not client.indices.exists(index=index_name):\n",
    "    response = client.indices.create(index=index_name, body=vsm_settings)\n",
    "    print(\"Index created:\", response)\n",
    "else:\n",
    "    print(f\"Index '{index_name}' already exists.\")\n",
    "\n",
    "\n",
    "docs = [\n",
    "    {\n",
    "        \"_id\": row[\"_id\"],\n",
    "        \"_source\": {\n",
    "            \"text\": row[\"clean_text\"]\n",
    "        }\n",
    "    }\n",
    "    for _, row in df.iterrows()\n",
    "]\n",
    "bulk_response = helpers.bulk(client, docs,index=index_name)\n",
    "print(\"Success:\", bulk_response)"
   ]
  },
  {
   "cell_type": "code",
   "execution_count": 10,
   "id": "e6417bfb",
   "metadata": {},
   "outputs": [],
   "source": [
    "import json\n",
    "\n",
    "# take queries from file \n",
    "queries = []\n",
    "with open(r\"..\\trec-covid\\queries.jsonl\", \"r\", encoding=\"utf-8\") as f:\n",
    "    for line in f:\n",
    "        queries.append(json.loads(line))"
   ]
  },
  {
   "cell_type": "code",
   "execution_count": 17,
   "id": "3eb6da4a",
   "metadata": {},
   "outputs": [],
   "source": [
    "import os\n",
    "\n",
    "def pretty_search_response(response, file_path, query_id, run_id=\"my_run\"):\n",
    "    with open(file_path, \"w\", encoding=\"utf-8\") as f:\n",
    "        if len(response[\"hits\"][\"hits\"]) == 0:\n",
    "            msg = \"Your search returned no results for this query.\"\n",
    "            print(msg)\n",
    "            f.write(f\"{query_id} Q0 no_results 1 0.0 {run_id}\\n\") # Output even if no results\n",
    "        else:\n",
    "            rank = 1\n",
    "            for hit in response[\"hits\"][\"hits\"]:\n",
    "                doc_id = hit[\"_id\"]\n",
    "                score = hit[\"_score\"]\n",
    "                f.write(f\"{query_id} Q0 {doc_id} {rank} {score} {run_id}\\n\")\n",
    "                rank += 1\n"
   ]
  },
  {
   "cell_type": "code",
   "execution_count": 18,
   "id": "83178383",
   "metadata": {},
   "outputs": [],
   "source": [
    "for q in queries:\n",
    "    query_text = q[\"metadata\"][\"query\"]\n",
    "    query_id = q[\"_id\"]\n",
    "\n",
    "    response = client.search(\n",
    "        index=index_name,\n",
    "        size=50,\n",
    "        query={\n",
    "            \"match\": {\n",
    "                \"text\": query_text\n",
    "            }\n",
    "        }\n",
    "    )\n",
    "    base_path = r\"res\\50new\"\n",
    "    file_name = os.path.join(base_path, f\"query_{query_id}.txt\")\n",
    "\n",
    "    pretty_search_response(response, file_name, query_id)"
   ]
  }
 ],
 "metadata": {
  "kernelspec": {
   "display_name": "Python 3",
   "language": "python",
   "name": "python3"
  },
  "language_info": {
   "codemirror_mode": {
    "name": "ipython",
    "version": 3
   },
   "file_extension": ".py",
   "mimetype": "text/x-python",
   "name": "python",
   "nbconvert_exporter": "python",
   "pygments_lexer": "ipython3",
   "version": "3.13.1"
  }
 },
 "nbformat": 4,
 "nbformat_minor": 5
}
