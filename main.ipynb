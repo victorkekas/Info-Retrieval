{
 "cells": [
  {
   "cell_type": "code",
   "execution_count": null,
   "id": "af5afce2",
   "metadata": {},
   "outputs": [],
   "source": [
    "!pip install elasticsearch"
   ]
  },
  {
   "cell_type": "code",
   "execution_count": null,
   "id": "c63808a0",
   "metadata": {},
   "outputs": [],
   "source": [
    "import pandas as pd\n",
    "import json\n",
    "\n",
    "# Corpus Path \n",
    "corpus_path = r'trec-covid\\corpus.jsonl'\n",
    "\n",
    "# reading\n",
    "data = []\n",
    "with open(corpus_path, 'r', encoding='utf-8') as f:\n",
    "    for line in f:\n",
    "        data.append(json.loads(line))\n",
    "\n",
    "# Dataframe creation\n",
    "# This is out corpus\n",
    "df = pd.DataFrame(data)"
   ]
  },
  {
   "cell_type": "code",
   "execution_count": null,
   "id": "3f915175",
   "metadata": {},
   "outputs": [],
   "source": [
    "import re\n",
    "\n",
    "# The code cleans and standardizes text by converting it to lowercase, \n",
    "# removing HTML tags, digits, and punctuation, and collapsing multiple spaces into one.\n",
    "def clear_text(text):\n",
    "    if pd.isna(text):\n",
    "        return \"\"\n",
    "    text = text.lower()\n",
    "    text = re.sub(r\"<[^>]+>\", \" \", text)\n",
    "    text = re.sub(r\"\\d+\", \" \", text)\n",
    "    text = re.sub(r\"[^\\w\\s]\", \" \", text)\n",
    "    text = re.sub(r\"\\s+\", \" \", text).strip()\n",
    "\n",
    "    return text\n",
    "\n",
    "df[\"clean_text\"] = (df[\"title\"].fillna(\"\") + \" \" + df[\"text\"].fillna(\"\")).apply(clear_text)\n",
    "# Remove rows where clean_text is empty\n",
    "df = df[df[\"clean_text\"] != \"\"]"
   ]
  },
  {
   "cell_type": "code",
   "execution_count": null,
   "id": "7959e279",
   "metadata": {},
   "outputs": [],
   "source": [
    "print(df[[\"_id\", \"title\",\"clean_text\",\"text\"]].head())"
   ]
  },
  {
   "cell_type": "code",
   "execution_count": 30,
   "id": "36d8e478",
   "metadata": {},
   "outputs": [
    {
     "name": "stdout",
     "output_type": "stream",
     "text": [
      "Index(['_id', 'title', 'text', 'metadata', 'clean_text'], dtype='object')\n"
     ]
    }
   ],
   "source": [
    "print(df.columns)"
   ]
  },
  {
   "cell_type": "code",
   "execution_count": 4,
   "id": "56449468",
   "metadata": {},
   "outputs": [],
   "source": [
    "from elasticsearch import Elasticsearch, helpers\n",
    "\n",
    "client = Elasticsearch(\n",
    "    \"https://my-elasticsearch-project-ff8e64.es.eu-west-1.aws.elastic.cloud:443\",\n",
    "    api_key=\"SGJYZVA1WUIxUGJ2cm1mUjJUWi06c1BXRHFyc1BwZ25DbWFua1pleUVLQQ==\"\n",
    ")\n",
    "\n",
    "index_name = \"search-0y01\"\n",
    "\n",
    "vsm_settings={\n",
    "    \"settings\": {\n",
    "        \"number_of_shards\": 1,\n",
    "        \"similarity\": {\n",
    "            \"scripted_tfidf\": {\n",
    "                \"type\": \"scripted\",\n",
    "                \"script\": {\n",
    "                    \"source\": \"double tf = Math.sqrt(doc.freq); double idf = Math.log((field.docCount+1.0)/(term.docFreq+1.0)) + 1.0; double norm = 1/Math.sqrt(doc.length); return query.boost * tf * idf * norm;\"\n",
    "                }\n",
    "            }\n",
    "        },        \n",
    "        \"analysis\": {\n",
    "            \"analyzer\": {\n",
    "                \"default\": {\n",
    "                    \"type\": \"english\"\n",
    "                },\n",
    "                \"default_search\": {\n",
    "                    \"type\": \"english\"\n",
    "                }\n",
    "            }\n",
    "        }\n",
    "    },\n",
    "    \"mappings\": {\n",
    "        \"properties\": {\n",
    "            # \"title\": {\n",
    "            #     \"type\": \"text\",\n",
    "            #     \"analyzer\": \"custom_english_analyzer\",\n",
    "            #     \"similarity\": \"scripted_tfidf\"},\n",
    "            \"text\": {\n",
    "                \"type\": \"text\",\n",
    "                \"analyzer\": \"custom_english_analyzer\",\n",
    "                \"similarity\": \"scripted_tfidf\"\n",
    "        }\n",
    "    }\n",
    "}\n",
    "}\n",
    "\n"
   ]
  },
  {
   "cell_type": "code",
   "execution_count": null,
   "id": "2214c02f",
   "metadata": {},
   "outputs": [
    {
     "name": "stdout",
     "output_type": "stream",
     "text": [
      "Index 'search-0y01' already exists.\n",
      "Success: (171331, [])\n"
     ]
    }
   ],
   "source": [
    "\n",
    "# Create the index with mappings and settings\n",
    "if not client.indices.exists(index=index_name):\n",
    "    response = client.indices.create(index=index_name, body=vsm_settings)\n",
    "    print(\"Index created:\", response)\n",
    "else:\n",
    "    print(f\"Index '{index_name}' already exists.\")\n",
    "\n",
    "\n",
    "docs = [\n",
    "    {\n",
    "        \"_id\": row[\"_id\"],\n",
    "        \"_source\": {\n",
    "            # \"title\": row[\"title\"],\n",
    "            \"text\": row[\"clean_text\"]\n",
    "        }\n",
    "    }\n",
    "    for _, row in df.iterrows()\n",
    "]\n",
    "bulk_response = helpers.bulk(client, docs,index=index_name)\n",
    "print(\"Success:\", bulk_response)"
   ]
  },
  {
   "cell_type": "code",
   "execution_count": 43,
   "id": "e6417bfb",
   "metadata": {},
   "outputs": [],
   "source": [
    "import json\n",
    "\n",
    "# take queries from file \n",
    "queries = []\n",
    "with open(r\"C:\\Users\\30694\\OneDrive\\Desktop\\Victor\\OPA\\8o examino\\Anaktisi Pliroforion\\Προγραμματιστική εργασία\\trec-covid\\queries.jsonl\", \"r\", encoding=\"utf-8\") as f:\n",
    "    for line in f:\n",
    "        queries.append(json.loads(line))"
   ]
  },
  {
   "cell_type": "code",
   "execution_count": 42,
   "id": "93a21619",
   "metadata": {},
   "outputs": [],
   "source": [
    "import os\n",
    "\n",
    "def pretty_search_response(response, file_path):\n",
    "    with open(file_path, \"w\", encoding=\"utf-8\") as f:\n",
    "        if len(response[\"hits\"][\"hits\"]) == 0:\n",
    "            msg = \"Your search returned no results.\"\n",
    "            print(msg)\n",
    "            f.write(msg + \"\\n\")\n",
    "        else:\n",
    "            for hit in response[\"hits\"][\"hits\"]:\n",
    "                id = hit[\"_id\"]\n",
    "                text = hit[\"_source\"][\"text\"]\n",
    "                pretty_output = f\"\\nID: {id},\\nText: {text}\\n\"\n",
    "                print(pretty_output)\n",
    "                f.write(pretty_output)"
   ]
  },
  {
   "cell_type": "code",
   "execution_count": null,
   "id": "83178383",
   "metadata": {},
   "outputs": [],
   "source": [
    "# Loop through the queries and process each\n",
    "for q in queries:\n",
    "    query_text = q[\"metadata\"][\"query\"]\n",
    "    query_id = q[\"_id\"]\n",
    "\n",
    "    response = client.search(\n",
    "        index=index_name,\n",
    "        size=50,\n",
    "        query={\n",
    "            \"match\": {\n",
    "                \"text\": query_text\n",
    "            }\n",
    "        }\n",
    "    )\n",
    "    base_path = r\"C:\\Users\\30694\\OneDrive\\Desktop\\Victor\\OPA\\8o examino\\Anaktisi Pliroforion\\Προγραμματιστική εργασία\\trec-covid\\res\\50\"\n",
    "    file_name = os.path.join(base_path, f\"query_{query_id}.txt\")\n",
    "\n",
    "    pretty_search_response(response, file_path=file_name)\n",
    "\n"
   ]
  }
 ],
 "metadata": {
  "kernelspec": {
   "display_name": "base",
   "language": "python",
   "name": "python3"
  },
  "language_info": {
   "codemirror_mode": {
    "name": "ipython",
    "version": 3
   },
   "file_extension": ".py",
   "mimetype": "text/x-python",
   "name": "python",
   "nbconvert_exporter": "python",
   "pygments_lexer": "ipython3",
   "version": "3.12.4"
  }
 },
 "nbformat": 4,
 "nbformat_minor": 5
}
