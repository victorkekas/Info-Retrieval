{
 "cells": [
  {
   "cell_type": "code",
   "execution_count": 14,
   "id": "76a7565b",
   "metadata": {},
   "outputs": [],
   "source": [
    "import json\n",
    "import nltk\n",
    "import pandas as pd\n",
    "from nltk.corpus import wordnet\n",
    "from nltk.tokenize import word_tokenize\n",
    "from nltk.corpus import stopwords\n",
    "from elasticsearch import Elasticsearch, helpers\n",
    "import re \n"
   ]
  },
  {
   "cell_type": "code",
   "execution_count": 30,
   "id": "cdc1996d",
   "metadata": {},
   "outputs": [
    {
     "name": "stderr",
     "output_type": "stream",
     "text": [
      "[nltk_data] Downloading package punkt to\n",
      "[nltk_data]     C:\\Users\\victo\\AppData\\Roaming\\nltk_data...\n",
      "[nltk_data]   Package punkt is already up-to-date!\n",
      "[nltk_data] Downloading package wordnet to\n",
      "[nltk_data]     C:\\Users\\victo\\AppData\\Roaming\\nltk_data...\n",
      "[nltk_data]   Package wordnet is already up-to-date!\n",
      "[nltk_data] Downloading package omw-1.4 to\n",
      "[nltk_data]     C:\\Users\\victo\\AppData\\Roaming\\nltk_data...\n",
      "[nltk_data]   Package omw-1.4 is already up-to-date!\n",
      "[nltk_data] Downloading package stopwords to\n",
      "[nltk_data]     C:\\Users\\victo\\AppData\\Roaming\\nltk_data...\n",
      "[nltk_data]   Package stopwords is already up-to-date!\n",
      "[nltk_data] Downloading package punkt_tab to\n",
      "[nltk_data]     C:\\Users\\victo\\AppData\\Roaming\\nltk_data...\n",
      "[nltk_data]   Unzipping tokenizers\\punkt_tab.zip.\n"
     ]
    },
    {
     "data": {
      "text/plain": [
       "True"
      ]
     },
     "execution_count": 30,
     "metadata": {},
     "output_type": "execute_result"
    }
   ],
   "source": [
    "nltk.download('punkt')\n",
    "nltk.download('wordnet')\n",
    "nltk.download('omw-1.4')\n",
    "nltk.download('stopwords')\n",
    "nltk.download('punkt_tab')"
   ]
  },
  {
   "cell_type": "code",
   "execution_count": 13,
   "id": "111e34b4",
   "metadata": {},
   "outputs": [],
   "source": [
    "corpus_path = r'..\\..\\trec-covid\\corpus.jsonl'\n",
    "\n",
    "# reading\n",
    "data = []\n",
    "with open(corpus_path, 'r', encoding='utf-8') as f:\n",
    "    for line in f:\n",
    "        data.append(json.loads(line))\n",
    "\n",
    "# Dataframe creation\n",
    "# This is out corpus\n",
    "df = pd.DataFrame(data)"
   ]
  },
  {
   "cell_type": "code",
   "execution_count": 15,
   "id": "53cdfdcd",
   "metadata": {},
   "outputs": [],
   "source": [
    "# The code cleans and standardizes text by converting it to lowercase, \n",
    "# removing HTML tags, digits, and punctuation, and collapsing multiple spaces into one.\n",
    "def clear_text(text):\n",
    "    if pd.isna(text):\n",
    "        return \"\"\n",
    "    text = text.lower()\n",
    "    text = re.sub(r\"<[^>]+>\", \" \", text)\n",
    "    text = re.sub(r\"\\d+\", \" \", text)\n",
    "    text = re.sub(r\"[^\\w\\s]\", \" \", text)\n",
    "    text = re.sub(r\"\\s+\", \" \", text).strip()\n",
    "\n",
    "    return text\n",
    "\n",
    "df[\"clean_text\"] = (df[\"title\"].fillna(\"\") + \" \" + df[\"text\"].fillna(\"\")).apply(clear_text)\n",
    "# Remove rows where clean_text is empty\n",
    "df = df[df[\"clean_text\"] != \"\"]"
   ]
  },
  {
   "cell_type": "code",
   "execution_count": 2,
   "id": "d89b2633",
   "metadata": {},
   "outputs": [],
   "source": [
    "stop_words = set(stopwords.words('english'))\n",
    "\n",
    "# We modified this funciton a bit. \n",
    "# We added the if statment, so that it doesn;t add it self as a synonim. \n",
    "def get_synonyms(word):  \n",
    "    synonyms = set() \n",
    "    for syn in wordnet.synsets(word):  \n",
    "        for lemma in syn.lemmas():  \n",
    "            name = lemma.name().replace(\"_\", \" \")\n",
    "            if name.lower() != word.lower():  \n",
    "                synonyms.add(name)  \n",
    "    return list(synonyms)"
   ]
  },
  {
   "cell_type": "code",
   "execution_count": 3,
   "id": "b2601fd7",
   "metadata": {},
   "outputs": [],
   "source": [
    "# take queries from file \n",
    "queries = []\n",
    "with open(r\"..\\..\\trec-covid\\queries.jsonl\", \"r\", encoding=\"utf-8\") as f:\n",
    "    for line in f:\n",
    "        queries.append(json.loads(line))"
   ]
  },
  {
   "cell_type": "code",
   "execution_count": 4,
   "id": "5e3e2304",
   "metadata": {},
   "outputs": [],
   "source": [
    "expanded_queries = []\n",
    "\n",
    "for q in queries:\n",
    "    original_text = q[\"metadata\"][\"query\"]\n",
    "    tokens = word_tokenize(original_text)\n",
    "    expanded_terms = set(tokens)\n",
    "\n",
    "    for token in tokens:\n",
    "        token = token.lower()\n",
    "        if token.isalpha() and token not in stop_words:\n",
    "            synonyms = get_synonyms(token)\n",
    "            expanded_terms.update(synonyms)\n",
    "\n",
    "    expanded_query = \" \".join(expanded_terms)\n",
    "    expanded_queries.append({\n",
    "        \"_id\": q[\"_id\"],\n",
    "        \"original\": original_text,\n",
    "        \"expanded\": expanded_query\n",
    "    })"
   ]
  },
  {
   "cell_type": "code",
   "execution_count": 17,
   "id": "c889ca9f",
   "metadata": {},
   "outputs": [],
   "source": [
    "client = Elasticsearch(\"http://localhost:9200\")\n",
    "index_name = \"my_index\"\n",
    "vsm_settings={\n",
    "    \"settings\": {\n",
    "        \"number_of_shards\": 1,\n",
    "        \"similarity\": {\n",
    "            \"scripted_tfidf\": {\n",
    "                \"type\": \"scripted\",\n",
    "                \"script\": {\n",
    "                    \"source\": \"double tf = Math.sqrt(doc.freq); double idf = Math.log((field.docCount+1.0)/(term.docFreq+1.0)) + 1.0; double norm = 1/Math.sqrt(doc.length); return query.boost * tf * idf * norm;\"\n",
    "                }\n",
    "            }\n",
    "        },        \n",
    "        \"analysis\": {\n",
    "            \"analyzer\": {\n",
    "                \"default\": {\n",
    "                    \"type\": \"english\"\n",
    "                },\n",
    "                \"default_search\": {\n",
    "                    \"type\": \"english\"\n",
    "                }\n",
    "            }\n",
    "        }\n",
    "    },\n",
    "    \"mappings\": {\n",
    "        \"properties\": {\n",
    "            \"text\": {\n",
    "                \"type\": \"text\",\n",
    "                \"similarity\": \"scripted_tfidf\"\n",
    "        }\n",
    "    }\n",
    "}\n",
    "}\n"
   ]
  },
  {
   "cell_type": "code",
   "execution_count": null,
   "id": "e28721d7",
   "metadata": {},
   "outputs": [],
   "source": [
    "client.indices.delete(index=\"my_index\")"
   ]
  },
  {
   "cell_type": "code",
   "execution_count": 19,
   "id": "20f535d5",
   "metadata": {},
   "outputs": [
    {
     "name": "stdout",
     "output_type": "stream",
     "text": [
      "Index 'my_index' already exists.\n",
      "Success: (171331, [])\n"
     ]
    }
   ],
   "source": [
    "# Create the index with mappings and settings\n",
    "if not client.indices.exists(index=index_name):\n",
    "    response = client.indices.create(index=index_name, body=vsm_settings)\n",
    "    print(\"Index created:\", response)\n",
    "else:\n",
    "    print(f\"Index '{index_name}' already exists.\")\n",
    "\n",
    "\n",
    "docs = [\n",
    "    {\n",
    "        \"_id\": row[\"_id\"],\n",
    "        \"_source\": {\n",
    "            \"text\": row[\"clean_text\"]\n",
    "        }\n",
    "    }\n",
    "    for _, row in df.iterrows()\n",
    "]\n",
    "bulk_response = helpers.bulk(client, docs,index=index_name)\n",
    "print(\"Success:\", bulk_response)"
   ]
  },
  {
   "cell_type": "code",
   "execution_count": 24,
   "id": "5eac12a9",
   "metadata": {},
   "outputs": [],
   "source": [
    "import os\n",
    "\n",
    "def pretty_search_response(response, file_path, query_id, run_id=\"expanded_run\"):\n",
    "    with open(file_path, \"w\", encoding=\"utf-8\") as f:\n",
    "        rank = 1\n",
    "        for hit in response[\"hits\"][\"hits\"]:\n",
    "            doc_id = hit[\"_id\"]\n",
    "            score = hit[\"_score\"]\n",
    "            f.write(f\"{query_id} Q0 {doc_id} {rank} {score} {run_id}\\n\")\n",
    "            rank += 1"
   ]
  },
  {
   "cell_type": "code",
   "execution_count": 27,
   "id": "5a0f235b",
   "metadata": {},
   "outputs": [],
   "source": [
    "for q in expanded_queries:\n",
    "    query_text = q[\"expanded\"]\n",
    "    query_id = q[\"_id\"]\n",
    "\n",
    "    response = client.search(\n",
    "        index=index_name,\n",
    "        size=50,\n",
    "        query={\n",
    "            \"match\": {\n",
    "                \"text\": query_text\n",
    "            }\n",
    "        }\n",
    "    )\n",
    "    base_path = r\"50\"\n",
    "    file_name = os.path.join(base_path, f\"query_{query_id}.txt\")\n",
    "\n",
    "    pretty_search_response(response, file_name, query_id)"
   ]
  }
 ],
 "metadata": {
  "kernelspec": {
   "display_name": "Python 3",
   "language": "python",
   "name": "python3"
  },
  "language_info": {
   "codemirror_mode": {
    "name": "ipython",
    "version": 3
   },
   "file_extension": ".py",
   "mimetype": "text/x-python",
   "name": "python",
   "nbconvert_exporter": "python",
   "pygments_lexer": "ipython3",
   "version": "3.13.1"
  }
 },
 "nbformat": 4,
 "nbformat_minor": 5
}
