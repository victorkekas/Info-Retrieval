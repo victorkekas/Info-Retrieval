{
 "cells": [
  {
   "cell_type": "code",
   "execution_count": 26,
   "id": "76a7565b",
   "metadata": {},
   "outputs": [],
   "source": [
    "import json\n",
    "import nltk\n",
    "from nltk.corpus import wordnet\n",
    "from nltk.tokenize import word_tokenize\n",
    "from nltk.corpus import stopwords\n"
   ]
  },
  {
   "cell_type": "code",
   "execution_count": 30,
   "id": "cdc1996d",
   "metadata": {},
   "outputs": [
    {
     "name": "stderr",
     "output_type": "stream",
     "text": [
      "[nltk_data] Downloading package punkt to\n",
      "[nltk_data]     C:\\Users\\victo\\AppData\\Roaming\\nltk_data...\n",
      "[nltk_data]   Package punkt is already up-to-date!\n",
      "[nltk_data] Downloading package wordnet to\n",
      "[nltk_data]     C:\\Users\\victo\\AppData\\Roaming\\nltk_data...\n",
      "[nltk_data]   Package wordnet is already up-to-date!\n",
      "[nltk_data] Downloading package omw-1.4 to\n",
      "[nltk_data]     C:\\Users\\victo\\AppData\\Roaming\\nltk_data...\n",
      "[nltk_data]   Package omw-1.4 is already up-to-date!\n",
      "[nltk_data] Downloading package stopwords to\n",
      "[nltk_data]     C:\\Users\\victo\\AppData\\Roaming\\nltk_data...\n",
      "[nltk_data]   Package stopwords is already up-to-date!\n",
      "[nltk_data] Downloading package punkt_tab to\n",
      "[nltk_data]     C:\\Users\\victo\\AppData\\Roaming\\nltk_data...\n",
      "[nltk_data]   Unzipping tokenizers\\punkt_tab.zip.\n"
     ]
    },
    {
     "data": {
      "text/plain": [
       "True"
      ]
     },
     "execution_count": 30,
     "metadata": {},
     "output_type": "execute_result"
    }
   ],
   "source": [
    "nltk.download('punkt')\n",
    "nltk.download('wordnet')\n",
    "nltk.download('omw-1.4')\n",
    "nltk.download('stopwords')\n",
    "nltk.download('punkt_tab')"
   ]
  },
  {
   "cell_type": "code",
   "execution_count": 31,
   "id": "d89b2633",
   "metadata": {},
   "outputs": [],
   "source": [
    "stop_words = set(stopwords.words('english'))\n",
    "\n",
    "# We modified this funciton a bit. \n",
    "# We added the if statment, so that it doesn;t add it self as a synonim. \n",
    "def get_synonyms(word):  \n",
    "    synonyms = set() \n",
    "    for syn in wordnet.synsets(word):  \n",
    "        for lemma in syn.lemmas():  \n",
    "            name = lemma.name().replace(\"_\", \" \")\n",
    "            if name.lower() != word.lower():  \n",
    "                synonyms.add(name)  \n",
    "    return list(synonyms)"
   ]
  },
  {
   "cell_type": "code",
   "execution_count": 32,
   "id": "b2601fd7",
   "metadata": {},
   "outputs": [],
   "source": [
    "# take queries from file \n",
    "queries = []\n",
    "with open(r\"..\\..\\trec-covid\\queries.jsonl\", \"r\", encoding=\"utf-8\") as f:\n",
    "    for line in f:\n",
    "        queries.append(json.loads(line))"
   ]
  },
  {
   "cell_type": "code",
   "execution_count": 34,
   "id": "5e3e2304",
   "metadata": {},
   "outputs": [],
   "source": [
    "expanded_queries = []\n",
    "\n",
    "for q in queries:\n",
    "    original_text = q[\"metadata\"][\"query\"]\n",
    "    tokens = word_tokenize(original_text)\n",
    "    expanded_terms = set(tokens)\n",
    "\n",
    "    for token in tokens:\n",
    "        token = token.lower()\n",
    "        if token.isalpha() and token not in stop_words:\n",
    "            synonyms = get_synonyms(token)\n",
    "            expanded_terms.update(synonyms)\n",
    "\n",
    "    expanded_query = \" \".join(expanded_terms)\n",
    "    expanded_queries.append({\n",
    "        \"_id\": q[\"_id\"],\n",
    "        \"original\": original_text,\n",
    "        \"expanded\": expanded_query\n",
    "    })"
   ]
  }
 ],
 "metadata": {
  "kernelspec": {
   "display_name": "Python 3",
   "language": "python",
   "name": "python3"
  },
  "language_info": {
   "codemirror_mode": {
    "name": "ipython",
    "version": 3
   },
   "file_extension": ".py",
   "mimetype": "text/x-python",
   "name": "python",
   "nbconvert_exporter": "python",
   "pygments_lexer": "ipython3",
   "version": "3.13.1"
  }
 },
 "nbformat": 4,
 "nbformat_minor": 5
}
